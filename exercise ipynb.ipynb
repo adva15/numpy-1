{
 "cells": [
  {
   "cell_type": "code",
   "execution_count": 5,
   "id": "a52c702b-2b5c-4952-9e8a-2badf58b166f",
   "metadata": {},
   "outputs": [
    {
     "data": {
      "text/plain": [
       "np.int64(3)"
      ]
     },
     "execution_count": 5,
     "metadata": {},
     "output_type": "execute_result"
    }
   ],
   "source": [
    "import numpy as np\n",
    "np.absolute(-3)"
   ]
  },
  {
   "cell_type": "code",
   "execution_count": 72,
   "id": "d40232a5-2ba0-4e6b-ac63-b23807435129",
   "metadata": {},
   "outputs": [
    {
     "data": {
      "text/plain": [
       "array([ 1,  2,  3,  4,  5,  6,  7,  8,  9, 10])"
      ]
     },
     "execution_count": 72,
     "metadata": {},
     "output_type": "execute_result"
    }
   ],
   "source": [
    "# 1.a\n",
    "np.arange(1, 10 + 1, 1)"
   ]
  },
  {
   "cell_type": "code",
   "execution_count": 21,
   "id": "010c477f-d856-4408-9a94-745288fee1f5",
   "metadata": {},
   "outputs": [
    {
     "data": {
      "text/plain": [
       "array([0.5 , 0.75, 1.  , 1.25, 1.5 , 1.75, 2.  , 2.25, 2.5 , 2.75, 3.  ,\n",
       "       3.25, 3.5 , 3.75, 4.  , 4.25, 4.5 , 4.75, 5.  ])"
      ]
     },
     "execution_count": 21,
     "metadata": {},
     "output_type": "execute_result"
    }
   ],
   "source": [
    "# 1.b\n",
    "np.arange(0.5, 5 + 0.25 , 0.25)"
   ]
  },
  {
   "cell_type": "code",
   "execution_count": 27,
   "id": "1b1a8d0f-e6f0-48d9-8fcf-27fdffc3de7d",
   "metadata": {
    "scrolled": true
   },
   "outputs": [
    {
     "name": "stdout",
     "output_type": "stream",
     "text": [
      "[0 0 0 0 0 0 0 0 0 0]\n"
     ]
    }
   ],
   "source": [
    "# 2.a\n",
    "print(np.zeros(10, dtype=int))\n",
    "\n"
   ]
  },
  {
   "cell_type": "code",
   "execution_count": null,
   "id": "e9c60c35-02aa-4dc1-aba1-1d013f219542",
   "metadata": {},
   "outputs": [],
   "source": []
  },
  {
   "cell_type": "code",
   "execution_count": 41,
   "id": "ae26f980-07d7-4441-b8a0-5619eb8daabd",
   "metadata": {
    "scrolled": true
   },
   "outputs": [
    {
     "name": "stdout",
     "output_type": "stream",
     "text": [
      "[[0. 0. 0.]\n",
      " [0. 0. 0.]\n",
      " [0. 0. 0.]\n",
      " [0. 0. 0.]]\n"
     ]
    }
   ],
   "source": [
    "# 2.b\n",
    "print(np.zeros((4, 3), dtype=float))"
   ]
  },
  {
   "cell_type": "code",
   "execution_count": 43,
   "id": "d1f1e98d-4f78-473a-82c3-a80f9b47fbb1",
   "metadata": {},
   "outputs": [
    {
     "name": "stdout",
     "output_type": "stream",
     "text": [
      "[ 2  4  7  9 12]\n"
     ]
    }
   ],
   "source": [
    "# 3.a\n",
    "print(np.linspace(2, 12, 5, dtype=int))"
   ]
  },
  {
   "cell_type": "code",
   "execution_count": 42,
   "id": "21c1027b-914b-413c-9ff7-2fb1f6ed322b",
   "metadata": {},
   "outputs": [
    {
     "name": "stdout",
     "output_type": "stream",
     "text": [
      "[3 5 7 9]\n"
     ]
    }
   ],
   "source": [
    "# 3.b\n",
    "print(np.linspace(3, 9, 4, dtype=int))"
   ]
  },
  {
   "cell_type": "code",
   "execution_count": 60,
   "id": "43a472de-8e6f-4d52-ad90-18cb8b76f6bc",
   "metadata": {},
   "outputs": [
    {
     "name": "stdout",
     "output_type": "stream",
     "text": [
      "[[0.03688695 0.60956433 0.50267902 0.05147875]\n",
      " [0.27864646 0.90826589 0.23956189 0.14489487]]\n"
     ]
    }
   ],
   "source": [
    "# 4.a\n",
    "randy = np.random.rand(2, 4) \n",
    "print(randy)"
   ]
  },
  {
   "cell_type": "code",
   "execution_count": 64,
   "id": "30807bcc-556a-4721-b456-9f94054256fd",
   "metadata": {},
   "outputs": [
    {
     "data": {
      "text/plain": [
       "array([[0.59089294],\n",
       "       [0.67756436],\n",
       "       [0.01658783],\n",
       "       [0.51209306],\n",
       "       [0.22649578],\n",
       "       [0.64517279],\n",
       "       [0.17436643],\n",
       "       [0.69093774]])"
      ]
     },
     "execution_count": 64,
     "metadata": {},
     "output_type": "execute_result"
    }
   ],
   "source": [
    "# reshape 1*8\n",
    "sh = np.random.rand(2, 4) \n",
    "np.reshape(sh, (8, 1)) "
   ]
  },
  {
   "cell_type": "code",
   "execution_count": 58,
   "id": "cb2cf14a-0e25-4993-9aae-7784498ce7f2",
   "metadata": {},
   "outputs": [
    {
     "data": {
      "text/plain": [
       "array([[18, 14, 10],\n",
       "       [12, 19, 17],\n",
       "       [20, 15, 17]], dtype=int32)"
      ]
     },
     "execution_count": 58,
     "metadata": {},
     "output_type": "execute_result"
    }
   ],
   "source": [
    "# 4.b\n",
    "np.random.randint(10, 21, (3,3))"
   ]
  },
  {
   "cell_type": "code",
   "execution_count": null,
   "id": "bdd33767-910d-40f5-9ee1-4e808e788917",
   "metadata": {},
   "outputs": [],
   "source": [
    "#5\n",
    "# מה יתקבל אם נגריל מספרים אקראים תוך שימוש ב- seed קבוע?\n",
    "#התוצאות של הגרלת המספרים האקראיים יהיו אותו הדבר בכל פעם שנבצע את אותו הקוד.\n",
    "\n",
    "#מה היתרון של השימוש ב- seed?\n",
    "# ברגע שהתוצאות של הגרלת המספרים האקראיים יהיה אותו הדבר בדיוק בכל פעם זה מאפשר לבדוק את הקוד על נתונים אקראיים ולהשוות את התוצאות של מתכנתים אחרים שהקוד תקין.  \n"
   ]
  }
 ],
 "metadata": {
  "kernelspec": {
   "display_name": "Python 3 (ipykernel)",
   "language": "python",
   "name": "python3"
  },
  "language_info": {
   "codemirror_mode": {
    "name": "ipython",
    "version": 3
   },
   "file_extension": ".py",
   "mimetype": "text/x-python",
   "name": "python",
   "nbconvert_exporter": "python",
   "pygments_lexer": "ipython3",
   "version": "3.12.5"
  }
 },
 "nbformat": 4,
 "nbformat_minor": 5
}
